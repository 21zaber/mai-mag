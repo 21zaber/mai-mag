{
 "cells": [
  {
   "cell_type": "code",
   "execution_count": 73,
   "metadata": {},
   "outputs": [],
   "source": [
    "m = \"\"\"[[-i , i , i , i , 1 , i ,-1 , i ],\n",
    "[-i , 1 ,-1 , i , 1 , i , 1 , i ],\n",
    "[ i , 1 , 1 ,-1 ,-i ,-i , i , 1 ],\n",
    "[ i , i ,-i ,-i ,-i ,-i ,-i ,-i ],\n",
    "[-1 , i ,-i ,-i ,-i ,-1 ,-i ,-i ],\n",
    "[-i , i ,-i ,-i ,-i , i ,-i ,-i ],\n",
    "[-i ,-i , i , i , i , i , i , i ],\n",
    "[-i , i ,-i , i ,-i , i ,-i , i ]]\"\"\"\n"
   ]
  },
  {
   "cell_type": "code",
   "execution_count": 63,
   "metadata": {},
   "outputs": [],
   "source": [
    "\n",
    "m = m.replace('\\n', ' ')\n",
    "m = m.replace('i', '1')"
   ]
  },
  {
   "cell_type": "code",
   "execution_count": null,
   "metadata": {},
   "outputs": [],
   "source": []
  },
  {
   "cell_type": "code",
   "execution_count": 74,
   "metadata": {},
   "outputs": [],
   "source": [
    "m = m.replace('[', '')\n",
    "m = m.replace(']', '')"
   ]
  },
  {
   "cell_type": "code",
   "execution_count": 75,
   "metadata": {},
   "outputs": [
    {
     "name": "stdout",
     "output_type": "stream",
     "text": [
      "[['-i', 'i', 'i', 'i', '1', 'i', '-1', 'i', ''], ['-i', '1', '-1', 'i', '1', 'i', '1', 'i', ''], ['i', '1', '1', '-1', '-i', '-i', 'i', '1', ''], ['i', 'i', '-i', '-i', '-i', '-i', '-i', '-i', ''], ['-1', 'i', '-i', '-i', '-i', '-1', '-i', '-i', ''], ['-i', 'i', '-i', '-i', '-i', 'i', '-i', '-i', ''], ['-i', '-i', 'i', 'i', 'i', 'i', 'i', 'i', ''], ['-i', 'i', '-i', 'i', '-i', 'i', '-i', 'i']]\n"
     ]
    },
    {
     "data": {
      "text/plain": [
       "[7, 6, 6, 7, 6, 7, 6, 7]"
      ]
     },
     "execution_count": 75,
     "metadata": {},
     "output_type": "execute_result"
    }
   ],
   "source": [
    "\n",
    "s = m.split('\\n')\n",
    "s = [[j.strip() for j in i.split(',')] for i in s]\n",
    "\n",
    "print(s)\n",
    "\n",
    "ts = tr(s)\n",
    "ts = [' '.join(i) for i in ts]\n",
    "[i.count('i') for i in ts]"
   ]
  },
  {
   "cell_type": "code",
   "execution_count": null,
   "metadata": {},
   "outputs": [],
   "source": []
  },
  {
   "cell_type": "code",
   "execution_count": null,
   "metadata": {},
   "outputs": [],
   "source": []
  },
  {
   "cell_type": "code",
   "execution_count": null,
   "metadata": {},
   "outputs": [],
   "source": []
  },
  {
   "cell_type": "code",
   "execution_count": null,
   "metadata": {},
   "outputs": [],
   "source": []
  },
  {
   "cell_type": "code",
   "execution_count": 26,
   "metadata": {},
   "outputs": [],
   "source": [
    "m = \"{{ 1 , 1 , 1 , 1 },{-1 ,-1 , 1 , 1 },{-1 , 1 ,-1 , 1 },{ 1 ,-1 ,-1 , 1 }}\"\n",
    "m = m.replace('{', '[')\n",
    "m = m.replace('}', ']')"
   ]
  },
  {
   "cell_type": "code",
   "execution_count": 2,
   "metadata": {},
   "outputs": [],
   "source": [
    "import json"
   ]
  },
  {
   "cell_type": "code",
   "execution_count": 66,
   "metadata": {},
   "outputs": [
    {
     "data": {
      "text/plain": [
       "[[-1, 1, 1, 1, 1, 1, -1, 1],\n",
       " [-1, 1, -1, 1, 1, 1, 1, 1],\n",
       " [1, 1, 1, -1, -1, -1, 1, 1],\n",
       " [1, 1, -1, -1, -1, -1, -1, -1],\n",
       " [-1, 1, -1, -1, -1, -1, -1, -1],\n",
       " [-1, 1, -1, -1, -1, 1, -1, -1],\n",
       " [-1, -1, 1, 1, 1, 1, 1, 1],\n",
       " [-1, 1, -1, 1, -1, 1, -1, 1]]"
      ]
     },
     "execution_count": 66,
     "metadata": {},
     "output_type": "execute_result"
    }
   ],
   "source": [
    "mx = json.loads(m)\n",
    "mx"
   ]
  },
  {
   "cell_type": "code",
   "execution_count": 60,
   "metadata": {},
   "outputs": [
    {
     "data": {
      "text/plain": [
       "[[1, -1, -1, -1, 1, -1, 1, -1],\n",
       " [1, 1, 1, -1, 1, -1, 1, -1],\n",
       " [-1, 1, 1, 1, 1, 1, -1, 1],\n",
       " [-1, -1, 1, 1, 1, 1, 1, 1],\n",
       " [1, -1, 1, 1, 1, 1, 1, 1],\n",
       " [1, -1, 1, 1, 1, -1, 1, 1],\n",
       " [1, 1, -1, -1, -1, -1, -1, -1],\n",
       " [1, -1, 1, -1, 1, -1, 1, -1]]"
      ]
     },
     "execution_count": 60,
     "metadata": {},
     "output_type": "execute_result"
    }
   ],
   "source": [
    "for i in mx:\n",
    "    for j in range(len(i)):\n",
    "        if i[j] == -2:\n",
    "            i[j] = -1\n",
    "        if i[j] == 1:\n",
    "            i[j] = 1\n",
    "        i[j] = abs(i[j])\n",
    "        if i[j] == 2:\n",
    "            i[j] = -1\n",
    "            \n",
    "mx"
   ]
  },
  {
   "cell_type": "code",
   "execution_count": 68,
   "metadata": {},
   "outputs": [
    {
     "name": "stdout",
     "output_type": "stream",
     "text": [
      "0 1 [-1, 1, 1, 1, 1, 1, -1, 1] [-1, 1, -1, 1, 1, 1, 1, 1] 4\n",
      "0 2 [-1, 1, 1, 1, 1, 1, -1, 1] [1, 1, 1, -1, -1, -1, 1, 1] -2\n",
      "0 3 [-1, 1, 1, 1, 1, 1, -1, 1] [1, 1, -1, -1, -1, -1, -1, -1] -4\n",
      "0 4 [-1, 1, 1, 1, 1, 1, -1, 1] [-1, 1, -1, -1, -1, -1, -1, -1] -2\n",
      "0 6 [-1, 1, 1, 1, 1, 1, -1, 1] [-1, -1, 1, 1, 1, 1, 1, 1] 4\n",
      "0 7 [-1, 1, 1, 1, 1, 1, -1, 1] [-1, 1, -1, 1, -1, 1, -1, 1] 4\n",
      "1 0 [-1, 1, -1, 1, 1, 1, 1, 1] [-1, 1, 1, 1, 1, 1, -1, 1] 4\n",
      "1 2 [-1, 1, -1, 1, 1, 1, 1, 1] [1, 1, 1, -1, -1, -1, 1, 1] -2\n",
      "1 3 [-1, 1, -1, 1, 1, 1, 1, 1] [1, 1, -1, -1, -1, -1, -1, -1] -4\n",
      "1 4 [-1, 1, -1, 1, 1, 1, 1, 1] [-1, 1, -1, -1, -1, -1, -1, -1] -2\n",
      "1 6 [-1, 1, -1, 1, 1, 1, 1, 1] [-1, -1, 1, 1, 1, 1, 1, 1] 4\n",
      "1 7 [-1, 1, -1, 1, 1, 1, 1, 1] [-1, 1, -1, 1, -1, 1, -1, 1] 4\n",
      "2 0 [1, 1, 1, -1, -1, -1, 1, 1] [-1, 1, 1, 1, 1, 1, -1, 1] -2\n",
      "2 1 [1, 1, 1, -1, -1, -1, 1, 1] [-1, 1, -1, 1, 1, 1, 1, 1] -2\n",
      "2 3 [1, 1, 1, -1, -1, -1, 1, 1] [1, 1, -1, -1, -1, -1, -1, -1] 2\n",
      "2 5 [1, 1, 1, -1, -1, -1, 1, 1] [-1, 1, -1, -1, -1, 1, -1, -1] -2\n",
      "2 6 [1, 1, 1, -1, -1, -1, 1, 1] [-1, -1, 1, 1, 1, 1, 1, 1] -2\n",
      "2 7 [1, 1, 1, -1, -1, -1, 1, 1] [-1, 1, -1, 1, -1, 1, -1, 1] -2\n",
      "3 0 [1, 1, -1, -1, -1, -1, -1, -1] [-1, 1, 1, 1, 1, 1, -1, 1] -4\n",
      "3 1 [1, 1, -1, -1, -1, -1, -1, -1] [-1, 1, -1, 1, 1, 1, 1, 1] -4\n",
      "3 2 [1, 1, -1, -1, -1, -1, -1, -1] [1, 1, 1, -1, -1, -1, 1, 1] 2\n",
      "3 4 [1, 1, -1, -1, -1, -1, -1, -1] [-1, 1, -1, -1, -1, -1, -1, -1] 6\n",
      "3 5 [1, 1, -1, -1, -1, -1, -1, -1] [-1, 1, -1, -1, -1, 1, -1, -1] 4\n",
      "3 6 [1, 1, -1, -1, -1, -1, -1, -1] [-1, -1, 1, 1, 1, 1, 1, 1] -8\n",
      "4 0 [-1, 1, -1, -1, -1, -1, -1, -1] [-1, 1, 1, 1, 1, 1, -1, 1] -2\n",
      "4 1 [-1, 1, -1, -1, -1, -1, -1, -1] [-1, 1, -1, 1, 1, 1, 1, 1] -2\n",
      "4 3 [-1, 1, -1, -1, -1, -1, -1, -1] [1, 1, -1, -1, -1, -1, -1, -1] 6\n",
      "4 5 [-1, 1, -1, -1, -1, -1, -1, -1] [-1, 1, -1, -1, -1, 1, -1, -1] 6\n",
      "4 6 [-1, 1, -1, -1, -1, -1, -1, -1] [-1, -1, 1, 1, 1, 1, 1, 1] -6\n",
      "4 7 [-1, 1, -1, -1, -1, -1, -1, -1] [-1, 1, -1, 1, -1, 1, -1, 1] 2\n",
      "5 2 [-1, 1, -1, -1, -1, 1, -1, -1] [1, 1, 1, -1, -1, -1, 1, 1] -2\n",
      "5 3 [-1, 1, -1, -1, -1, 1, -1, -1] [1, 1, -1, -1, -1, -1, -1, -1] 4\n",
      "5 4 [-1, 1, -1, -1, -1, 1, -1, -1] [-1, 1, -1, -1, -1, -1, -1, -1] 6\n",
      "5 6 [-1, 1, -1, -1, -1, 1, -1, -1] [-1, -1, 1, 1, 1, 1, 1, 1] -4\n",
      "5 7 [-1, 1, -1, -1, -1, 1, -1, -1] [-1, 1, -1, 1, -1, 1, -1, 1] 4\n",
      "6 0 [-1, -1, 1, 1, 1, 1, 1, 1] [-1, 1, 1, 1, 1, 1, -1, 1] 4\n",
      "6 1 [-1, -1, 1, 1, 1, 1, 1, 1] [-1, 1, -1, 1, 1, 1, 1, 1] 4\n",
      "6 2 [-1, -1, 1, 1, 1, 1, 1, 1] [1, 1, 1, -1, -1, -1, 1, 1] -2\n",
      "6 3 [-1, -1, 1, 1, 1, 1, 1, 1] [1, 1, -1, -1, -1, -1, -1, -1] -8\n",
      "6 4 [-1, -1, 1, 1, 1, 1, 1, 1] [-1, 1, -1, -1, -1, -1, -1, -1] -6\n",
      "6 5 [-1, -1, 1, 1, 1, 1, 1, 1] [-1, 1, -1, -1, -1, 1, -1, -1] -4\n",
      "7 0 [-1, 1, -1, 1, -1, 1, -1, 1] [-1, 1, 1, 1, 1, 1, -1, 1] 4\n",
      "7 1 [-1, 1, -1, 1, -1, 1, -1, 1] [-1, 1, -1, 1, 1, 1, 1, 1] 4\n",
      "7 2 [-1, 1, -1, 1, -1, 1, -1, 1] [1, 1, 1, -1, -1, -1, 1, 1] -2\n",
      "7 4 [-1, 1, -1, 1, -1, 1, -1, 1] [-1, 1, -1, -1, -1, -1, -1, -1] 2\n",
      "7 5 [-1, 1, -1, 1, -1, 1, -1, 1] [-1, 1, -1, -1, -1, 1, -1, -1] 4\n"
     ]
    }
   ],
   "source": [
    "for i in range(len(mx)):\n",
    "    for j in range(len(mx)):\n",
    "        if i != j:\n",
    "            m = mul2(mx[i], mx[j])\n",
    "            if m != 0:\n",
    "                print(i, j, mx[i], mx[j], m)"
   ]
  },
  {
   "cell_type": "code",
   "execution_count": null,
   "metadata": {},
   "outputs": [],
   "source": []
  },
  {
   "cell_type": "code",
   "execution_count": null,
   "metadata": {},
   "outputs": [],
   "source": []
  },
  {
   "cell_type": "code",
   "execution_count": null,
   "metadata": {},
   "outputs": [],
   "source": []
  },
  {
   "cell_type": "code",
   "execution_count": 19,
   "metadata": {},
   "outputs": [],
   "source": [
    "def tr(m):\n",
    "    return [[m[i][j] for i in range(len(m))] for j in range(len(m))]"
   ]
  },
  {
   "cell_type": "code",
   "execution_count": 21,
   "metadata": {},
   "outputs": [],
   "source": [
    "def mul(a, b):\n",
    "    return [[sum([a[i][k]*b[k][j] for k in range(len(a))]) for i in range(len(a))] for j in range(len(a))]"
   ]
  },
  {
   "cell_type": "code",
   "execution_count": 67,
   "metadata": {},
   "outputs": [],
   "source": [
    "def mul2(a,b):\n",
    "    return sum([a[i]*b[i] for i in range(len(a))])"
   ]
  },
  {
   "cell_type": "code",
   "execution_count": null,
   "metadata": {},
   "outputs": [],
   "source": []
  },
  {
   "cell_type": "code",
   "execution_count": 65,
   "metadata": {},
   "outputs": [
    {
     "data": {
      "text/plain": [
       "[[8, 4, -2, -4, -2, 0, 4, 4],\n",
       " [4, 8, -2, -4, -2, 0, 4, 4],\n",
       " [-2, -2, 8, 2, 0, -2, -2, -2],\n",
       " [-4, -4, 2, 8, 6, 4, -8, 0],\n",
       " [-2, -2, 0, 6, 8, 6, -6, 2],\n",
       " [0, 0, -2, 4, 6, 8, -4, 4],\n",
       " [4, 4, -2, -8, -6, -4, 8, 0],\n",
       " [4, 4, -2, 0, 2, 4, 0, 8]]"
      ]
     },
     "execution_count": 65,
     "metadata": {},
     "output_type": "execute_result"
    }
   ],
   "source": [
    "mul(mx, tr(mx))"
   ]
  },
  {
   "cell_type": "code",
   "execution_count": null,
   "metadata": {},
   "outputs": [],
   "source": []
  },
  {
   "cell_type": "code",
   "execution_count": 20,
   "metadata": {},
   "outputs": [
    {
     "data": {
      "text/plain": [
       "[[1, 3], [2, 4]]"
      ]
     },
     "execution_count": 20,
     "metadata": {},
     "output_type": "execute_result"
    }
   ],
   "source": [
    "tr([[1,2],[3, 4]])"
   ]
  }
 ],
 "metadata": {
  "kernelspec": {
   "display_name": "Python 3",
   "language": "python",
   "name": "python3"
  },
  "language_info": {
   "codemirror_mode": {
    "name": "ipython",
    "version": 3
   },
   "file_extension": ".py",
   "mimetype": "text/x-python",
   "name": "python",
   "nbconvert_exporter": "python",
   "pygments_lexer": "ipython3",
   "version": "3.5.2"
  }
 },
 "nbformat": 4,
 "nbformat_minor": 2
}
