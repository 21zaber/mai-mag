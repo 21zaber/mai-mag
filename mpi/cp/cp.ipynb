{
 "cells": [
  {
   "cell_type": "code",
   "execution_count": 52,
   "metadata": {},
   "outputs": [],
   "source": [
    "import subprocess\n",
    "from shlex import split\n",
    "import os\n",
    "from hashlib import md5\n",
    "from functools import partial\n",
    "\n",
    "\n",
    "bdir = '/home/n.zabarin/mpi/cp'\n",
    "source = os.path.join(bdir, 'main.cpp')\n",
    "executable = os.path.join(bdir, 'cp')\n",
    "generator = os.path.join(bdir, 'gen.py')\n",
    "outfile = os.path.join(bdir, 'output')\n",
    "routfile = os.path.join(bdir, 'routput')\n",
    "\n",
    "def build():\n",
    "    cmd = \"mpic++ --std=c++11 {} -o {}\".format(source, executable)\n",
    "    print(cmd)\n",
    "    subprocess.run(split(cmd))\n",
    "    \n",
    "def gen(**kwargs):\n",
    "    kwargs['file'] = os.path.join(bdir, kwargs['file'])\n",
    "    cmd = \"\"\"python3 {gen} {file} {x} \"{offset}\" \"{ln}\" \"{value}\" \"\"\".format(gen=generator, **kwargs)\n",
    "    print(cmd)\n",
    "    subprocess.run(split(cmd))\n",
    "    \n",
    "def run(np=4, x=256, y=256, iter_n=10000, err=0.0001, file='test'):\n",
    "    file = os.path.join(bdir, file)\n",
    "    \n",
    "    cmd = \"mpirun -q -n {} {} \".format(np, executable)    \n",
    "    cmd += '{} {} {} {} \"{}\"'.format(x, y, iter_n, err, file)\n",
    "    \n",
    "    print(cmd)\n",
    "    subprocess.run(split(cmd))\n",
    "    \n",
    "def _md5_file(filename):\n",
    "    with open(filename, mode='rb') as f:\n",
    "        d = md5()\n",
    "        for buf in iter(partial(f.read, 128), b''):\n",
    "            d.update(buf)\n",
    "    return d.hexdigest()\n",
    "\n",
    "def check(file=outfile):\n",
    "    return _md5_file(file)\n",
    "\n",
    "def full_test(name, iter_n, err, x, offset, ln, value, y=None):\n",
    "    if not y: \n",
    "        y = x\n",
    "        \n",
    "    tests = [1, 2, 3, 4, 8, 16]\n",
    "    \n",
    "    build()\n",
    "    \n",
    "    ldir = os.path.join(bdir, name)\n",
    "    os.mkdir(ldir)\n",
    "    \n",
    "    test_file = 'input'\n",
    "    test_file = os.path.join(name, test_file)\n",
    "    \n",
    "    gen(file=test_file, x=x, offset=offset, ln=ln, value=value)\n",
    "    \n",
    "    chks = []\n",
    "    \n",
    "    for np in tests:\n",
    "        run(np=np, x=x, y=y, iter_n=iter_n, err=err, file=test_file)\n",
    "        chks.append(check())\n",
    "        os.rename(outfile, os.path.join(ldir, 'output_{}'.format(np)))\n",
    "        os.rename(routfile, os.path.join(ldir, 'routput_{}'.format(np)))\n",
    "        \n",
    "    return chks\n",
    "        \n",
    "\n"
   ]
  },
  {
   "cell_type": "code",
   "execution_count": 69,
   "metadata": {},
   "outputs": [],
   "source": [
    "import plotly.plotly as py\n",
    "import plotly.graph_objs as go\n",
    "\n",
    "def c(a):\n",
    "    a = float(a)\n",
    "    if a < 0.000001:\n",
    "        return -1\n",
    "    return a\n",
    "\n",
    "def draw(file, x, name='name'):\n",
    "    with open(file, 'r') as f:\n",
    "        z = [list(map(c, f.readline().split())) for i in range(x)]\n",
    "        \n",
    "    data = [go.Heatmap(z=z)]\n",
    "    return py.iplot(data, filename=name)\n",
    "    "
   ]
  },
  {
   "cell_type": "code",
   "execution_count": 21,
   "metadata": {},
   "outputs": [
    {
     "name": "stdout",
     "output_type": "stream",
     "text": [
      "mpirun -q -n 4 /home/n.zabarin/mpi/cp/cp 256 256 10000 0.0001 \"/home/n.zabarin/mpi/cp/test\"\n"
     ]
    }
   ],
   "source": []
  },
  {
   "cell_type": "code",
   "execution_count": 70,
   "metadata": {},
   "outputs": [
    {
     "name": "stdout",
     "output_type": "stream",
     "text": [
      "mpic++ --std=c++11 /home/n.zabarin/mpi/cp/main.cpp -o /home/n.zabarin/mpi/cp/cp\n",
      "python3 /home/n.zabarin/mpi/cp/gen.py /home/n.zabarin/mpi/cp/try2/input 256 \"abs(x-128)\" \"256-abs(x-128)\" \"x/256\" \n",
      "mpirun -q -n 1 /home/n.zabarin/mpi/cp/cp 256 256 10000 0.0001 \"/home/n.zabarin/mpi/cp/try2/input\"\n",
      "mpirun -q -n 2 /home/n.zabarin/mpi/cp/cp 256 256 10000 0.0001 \"/home/n.zabarin/mpi/cp/try2/input\"\n",
      "mpirun -q -n 3 /home/n.zabarin/mpi/cp/cp 256 256 10000 0.0001 \"/home/n.zabarin/mpi/cp/try2/input\"\n",
      "mpirun -q -n 4 /home/n.zabarin/mpi/cp/cp 256 256 10000 0.0001 \"/home/n.zabarin/mpi/cp/try2/input\"\n",
      "mpirun -q -n 8 /home/n.zabarin/mpi/cp/cp 256 256 10000 0.0001 \"/home/n.zabarin/mpi/cp/try2/input\"\n",
      "mpirun -q -n 16 /home/n.zabarin/mpi/cp/cp 256 256 10000 0.0001 \"/home/n.zabarin/mpi/cp/try2/input\"\n"
     ]
    },
    {
     "name": "stderr",
     "output_type": "stream",
     "text": [
      "/opt/ansocial/env/lib/python3.5/site-packages/IPython/core/display.py:689: UserWarning:\n",
      "\n",
      "Consider using IPython.display.IFrame instead\n",
      "\n"
     ]
    },
    {
     "data": {
      "text/html": [
       "<iframe id=\"igraph\" scrolling=\"no\" style=\"border:none;\" seamless=\"seamless\" src=\"https://plot.ly/~zaber/2.embed\" height=\"525px\" width=\"100%\"></iframe>"
      ],
      "text/plain": [
       "<chart_studio.tools.PlotlyDisplay object>"
      ]
     },
     "execution_count": 70,
     "metadata": {},
     "output_type": "execute_result"
    }
   ],
   "source": [
    "full_test('try2', 10000, 0.0001, 256, \"abs(x-128)\", \"256-abs(x-128)\", \"x/256\")\n",
    "draw('/home/n.zabarin/mpi/cp/try2/routput_1', 256, 'try2_1')"
   ]
  },
  {
   "cell_type": "code",
   "execution_count": 79,
   "metadata": {},
   "outputs": [
    {
     "name": "stdout",
     "output_type": "stream",
     "text": [
      "mpic++ --std=c++11 /home/n.zabarin/mpi/cp/main.cpp -o /home/n.zabarin/mpi/cp/cp\n",
      "python3 /home/n.zabarin/mpi/cp/gen.py /home/n.zabarin/mpi/cp/try3/input 256 \"(x-128)**2//128\" \"max(1, 256-((x-128)**2//64))\" \"x/256\" \n",
      "mpirun -q -n 1 /home/n.zabarin/mpi/cp/cp 256 256 10000 0.0001 \"/home/n.zabarin/mpi/cp/try3/input\"\n",
      "mpirun -q -n 2 /home/n.zabarin/mpi/cp/cp 256 256 10000 0.0001 \"/home/n.zabarin/mpi/cp/try3/input\"\n",
      "mpirun -q -n 3 /home/n.zabarin/mpi/cp/cp 256 256 10000 0.0001 \"/home/n.zabarin/mpi/cp/try3/input\"\n",
      "mpirun -q -n 4 /home/n.zabarin/mpi/cp/cp 256 256 10000 0.0001 \"/home/n.zabarin/mpi/cp/try3/input\"\n",
      "mpirun -q -n 8 /home/n.zabarin/mpi/cp/cp 256 256 10000 0.0001 \"/home/n.zabarin/mpi/cp/try3/input\"\n",
      "mpirun -q -n 16 /home/n.zabarin/mpi/cp/cp 256 256 10000 0.0001 \"/home/n.zabarin/mpi/cp/try3/input\"\n"
     ]
    },
    {
     "name": "stderr",
     "output_type": "stream",
     "text": [
      "/opt/ansocial/env/lib/python3.5/site-packages/IPython/core/display.py:689: UserWarning:\n",
      "\n",
      "Consider using IPython.display.IFrame instead\n",
      "\n"
     ]
    },
    {
     "data": {
      "text/html": [
       "<iframe id=\"igraph\" scrolling=\"no\" style=\"border:none;\" seamless=\"seamless\" src=\"https://plot.ly/~zaber/4.embed\" height=\"525px\" width=\"100%\"></iframe>"
      ],
      "text/plain": [
       "<chart_studio.tools.PlotlyDisplay object>"
      ]
     },
     "execution_count": 79,
     "metadata": {},
     "output_type": "execute_result"
    }
   ],
   "source": [
    "full_test('try3', 10000, 0.0001, 256, \"(x-128)**2//128\", \"max(1, 256-((x-128)**2//64))\", \"x/256\")\n",
    "draw('/home/n.zabarin/mpi/cp/try3/routput_1', 256, 'try3_1')"
   ]
  },
  {
   "cell_type": "code",
   "execution_count": 80,
   "metadata": {},
   "outputs": [
    {
     "name": "stdout",
     "output_type": "stream",
     "text": [
      "mpic++ --std=c++11 /home/n.zabarin/mpi/cp/main.cpp -o /home/n.zabarin/mpi/cp/cp\n",
      "python3 /home/n.zabarin/mpi/cp/gen.py /home/n.zabarin/mpi/cp/try4/input 256 \"0\" \"256\" \"x/256\" \n",
      "mpirun -q -n 1 /home/n.zabarin/mpi/cp/cp 256 256 10000 0.0001 \"/home/n.zabarin/mpi/cp/try4/input\"\n",
      "mpirun -q -n 2 /home/n.zabarin/mpi/cp/cp 256 256 10000 0.0001 \"/home/n.zabarin/mpi/cp/try4/input\"\n",
      "mpirun -q -n 3 /home/n.zabarin/mpi/cp/cp 256 256 10000 0.0001 \"/home/n.zabarin/mpi/cp/try4/input\"\n",
      "mpirun -q -n 4 /home/n.zabarin/mpi/cp/cp 256 256 10000 0.0001 \"/home/n.zabarin/mpi/cp/try4/input\"\n",
      "mpirun -q -n 8 /home/n.zabarin/mpi/cp/cp 256 256 10000 0.0001 \"/home/n.zabarin/mpi/cp/try4/input\"\n",
      "mpirun -q -n 16 /home/n.zabarin/mpi/cp/cp 256 256 10000 0.0001 \"/home/n.zabarin/mpi/cp/try4/input\"\n"
     ]
    },
    {
     "name": "stderr",
     "output_type": "stream",
     "text": [
      "/opt/ansocial/env/lib/python3.5/site-packages/IPython/core/display.py:689: UserWarning:\n",
      "\n",
      "Consider using IPython.display.IFrame instead\n",
      "\n"
     ]
    },
    {
     "data": {
      "text/html": [
       "<iframe id=\"igraph\" scrolling=\"no\" style=\"border:none;\" seamless=\"seamless\" src=\"https://plot.ly/~zaber/6.embed\" height=\"525px\" width=\"100%\"></iframe>"
      ],
      "text/plain": [
       "<chart_studio.tools.PlotlyDisplay object>"
      ]
     },
     "execution_count": 80,
     "metadata": {},
     "output_type": "execute_result"
    }
   ],
   "source": [
    "full_test('try4', 10000, 0.0001, 256, \"0\", \"256\", \"x/256\")\n",
    "draw('/home/n.zabarin/mpi/cp/try4/routput_1', 256, 'try4_1')"
   ]
  }
 ],
 "metadata": {
  "kernelspec": {
   "display_name": "Python 3",
   "language": "python",
   "name": "python3"
  },
  "language_info": {
   "codemirror_mode": {
    "name": "ipython",
    "version": 3
   },
   "file_extension": ".py",
   "mimetype": "text/x-python",
   "name": "python",
   "nbconvert_exporter": "python",
   "pygments_lexer": "ipython3",
   "version": "3.5.2"
  }
 },
 "nbformat": 4,
 "nbformat_minor": 2
}
