{
 "cells": [
  {
   "cell_type": "markdown",
   "metadata": {},
   "source": [
    "# прямое и обратное дискретное преобразование фурье"
   ]
  },
  {
   "cell_type": "code",
   "execution_count": 1,
   "metadata": {},
   "outputs": [
    {
     "data": {
      "text/plain": [
       "<Figure size 640x480 with 1 Axes>"
      ]
     },
     "metadata": {},
     "output_type": "display_data"
    }
   ],
   "source": [
    "from numpy import array, arange, abs as np_abs\n",
    "from numpy.fft import rfft, rfftfreq\n",
    "from math import sin, pi, cos, sqrt\n",
    "import matplotlib.pyplot as plt\n",
    "import matplotlib as mpl\n",
    "\n",
    "N = 1000\n",
    "w = (2 * pi / N)\n",
    "A = 2\n",
    "B = 4\n",
    "#sin_sig = array([A * sin(4 * w * t) + B * cos(9 * w * t)  for t in range(N)])\n",
    "sin_sig = array([A * sin(6 * w * t) + B * cos(12 * w * t) + 3* A * sin(2 * w * t) + 5 * B * cos(1 * w * t) for t in range(N)])\n",
    "plt.plot(arange(N), sin_sig, 'r')\n",
    "plt.grid(True)\n",
    "plt.show()"
   ]
  },
  {
   "cell_type": "code",
   "execution_count": 2,
   "metadata": {},
   "outputs": [],
   "source": [
    "import math\n",
    "import cmath\n",
    "\n",
    "def DFT(fnList):\n",
    "    N = len(fnList)\n",
    "    FmList = []\n",
    "    for m in range(N):\n",
    "        Fm = 0.0\n",
    "        for n in range(N):\n",
    "            Fm += fnList[n] * cmath.exp(1j * 2.0 * math.pi  * m * n / N)\n",
    "        #FmList.append(Fm)\n",
    "        FmList.append(Fm / N)\n",
    "    return FmList\n",
    "\n",
    "def InverseDFT(FmList):\n",
    "    N = len(FmList)\n",
    "    fnList = []\n",
    "    for n in range(N):\n",
    "        fn = 0.0\n",
    "        for m in range(N):\n",
    "            fn += FmList[m] * cmath.exp(-1j * 2.0 * math.pi  * m * n / N)\n",
    "        #fnList.append(fn / N)\n",
    "        fnList.append(fn)\n",
    "    return fnList\n",
    "        "
   ]
  },
  {
   "cell_type": "code",
   "execution_count": 3,
   "metadata": {},
   "outputs": [],
   "source": [
    "I = DFT(sin_sig)"
   ]
  },
  {
   "cell_type": "code",
   "execution_count": 4,
   "metadata": {},
   "outputs": [
    {
     "data": {
      "image/png": "[encoded data removed]",
      "text/plain": [
       "<Figure size 432x288 with 1 Axes>"
      ]
     },
     "metadata": {},
     "output_type": "display_data"
    }
   ],
   "source": [
    "M = []\n",
    "for i in range(len(I)):\n",
    "    M.append(sqrt(I[i].real**2 + I[i].imag**2) * 2)\n",
    "\n",
    "plt.plot(arange(N), M, 'ro')\n",
    "plt.grid(True)\n",
    "plt.show()"
   ]
  },
  {
   "cell_type": "code",
   "execution_count": 5,
   "metadata": {},
   "outputs": [
    {
     "data": {
      "image/png": "[encoded data removed]",
      "text/plain": [
       "<Figure size 432x288 with 1 Axes>"
      ]
     },
     "metadata": {},
     "output_type": "display_data"
    }
   ],
   "source": [
    "plt.plot(arange(N / 20), M[0:int(N / 20)], 'ro')\n",
    "plt.grid(True)\n",
    "plt.show()"
   ]
  },
  {
   "cell_type": "code",
   "execution_count": 6,
   "metadata": {},
   "outputs": [
    {
     "name": "stdout",
     "output_type": "stream",
     "text": [
      "(10+1.08957287637e-15j)\n",
      "1\n",
      "(2-2.42272868434e-15j)\n",
      "12\n"
     ]
    }
   ],
   "source": [
    "for i in range(int(N / 20)):\n",
    "    if (I[i] > 1 / N or I[i] < -1 / N):\n",
    "        print(I[i])\n",
    "        print(i)"
   ]
  },
  {
   "cell_type": "code",
   "execution_count": 7,
   "metadata": {},
   "outputs": [],
   "source": [
    "H = InverseDFT(I)"
   ]
  },
  {
   "cell_type": "code",
   "execution_count": 8,
   "metadata": {},
   "outputs": [
    {
     "name": "stderr",
     "output_type": "stream",
     "text": [
      "/home/zaber/.local/lib/python3.5/site-packages/numpy/core/numeric.py:531: ComplexWarning: Casting complex values to real discards the imaginary part\n",
      "  return array(a, dtype, copy=False, order=order)\n"
     ]
    },
    {
     "data": {
      "image/png": "[encoded data removed]",
      "text/plain": [
       "<Figure size 432x288 with 1 Axes>"
      ]
     },
     "metadata": {},
     "output_type": "display_data"
    }
   ],
   "source": [
    "plt.plot(arange(N), H, 'r')\n",
    "plt.grid(True)\n",
    "plt.show()"
   ]
  },
  {
   "cell_type": "code",
   "execution_count": 9,
   "metadata": {},
   "outputs": [],
   "source": [
    "def FDFT(fnList):\n",
    "    N = len(fnList)\n",
    "    FmList = []\n",
    "    for m in range(N):\n",
    "        Fm = 0.0\n",
    "        for n in range(N):\n",
    "            Fm += fnList[n] * cmath.exp(- 1j * 2.0 * math.pi  * m * n / N)\n",
    "        #FmList.append(Fm)\n",
    "        #if(Fm / N > 0.00848 or Fm / N < -0.00848):\n",
    "        if(Fm / N > 0.01 or Fm / N < -0.01):\n",
    "            FmList.append(Fm / N)\n",
    "    return FmList"
   ]
  },
  {
   "cell_type": "code",
   "execution_count": 10,
   "metadata": {},
   "outputs": [],
   "source": [
    "FI = FDFT(sin_sig)"
   ]
  },
  {
   "cell_type": "code",
   "execution_count": 11,
   "metadata": {},
   "outputs": [
    {
     "name": "stderr",
     "output_type": "stream",
     "text": [
      "/home/zaber/.local/lib/python3.5/site-packages/numpy/core/numeric.py:531: ComplexWarning: Casting complex values to real discards the imaginary part\n",
      "  return array(a, dtype, copy=False, order=order)\n"
     ]
    },
    {
     "data": {
      "image/png": "[encoded data removed]",
      "text/plain": [
       "<Figure size 432x288 with 1 Axes>"
      ]
     },
     "metadata": {},
     "output_type": "display_data"
    }
   ],
   "source": [
    "plt.plot(arange(len(FI)), I[0:len(FI)], 'ro')\n",
    "plt.grid(True)\n",
    "plt.show()"
   ]
  },
  {
   "cell_type": "code",
   "execution_count": 12,
   "metadata": {},
   "outputs": [
    {
     "name": "stdout",
     "output_type": "stream",
     "text": [
      "(10-1.08957287637e-15j)\n",
      "0\n",
      "(2+2.42272868434e-15j)\n",
      "1\n",
      "(2+3.86210396996e-13j)\n",
      "2\n",
      "(10+1.63409011322e-12j)\n",
      "3\n"
     ]
    }
   ],
   "source": [
    "for i in range(len(FI)):\n",
    "    print(FI[i])\n",
    "    print(i)"
   ]
  },
  {
   "cell_type": "code",
   "execution_count": 13,
   "metadata": {},
   "outputs": [],
   "source": [
    "FH = InverseDFT(FI)\n",
    "#FH[0] = B #амплитуда косинуса в нуле"
   ]
  },
  {
   "cell_type": "code",
   "execution_count": 14,
   "metadata": {},
   "outputs": [],
   "source": [
    "TH = []\n",
    "for i in range(len(H)):\n",
    "    if(i % int(len(H) / len(FH)) == 0):\n",
    "        TH.append(H[i])"
   ]
  },
  {
   "cell_type": "code",
   "execution_count": 15,
   "metadata": {},
   "outputs": [
    {
     "name": "stderr",
     "output_type": "stream",
     "text": [
      "/home/zaber/.local/lib/python3.5/site-packages/numpy/core/numeric.py:531: ComplexWarning: Casting complex values to real discards the imaginary part\n",
      "  return array(a, dtype, copy=False, order=order)\n"
     ]
    },
    {
     "data": {
      "image/png": "[encoded data removed]",
      "text/plain": [
       "<Figure size 432x288 with 1 Axes>"
      ]
     },
     "metadata": {},
     "output_type": "display_data"
    }
   ],
   "source": [
    "plt.plot(arange(len(FH)), FH, 'r')\n",
    "plt.plot(arange(len(FH)), TH[0:len(FH)], 'b--')\n",
    "plt.grid(True)\n",
    "plt.show()"
   ]
  },
  {
   "cell_type": "code",
   "execution_count": 16,
   "metadata": {},
   "outputs": [
    {
     "data": {
      "image/png": "[encoded data removed]",
      "text/plain": [
       "<Figure size 432x288 with 1 Axes>"
      ]
     },
     "metadata": {},
     "output_type": "display_data"
    }
   ],
   "source": [
    "diff = []\n",
    "for i in range(len(FH)):\n",
    "    diff.append(abs(FH[i] - TH[i]))\n",
    "    \n",
    "plt.plot(arange(len(diff)), diff, 'r')\n",
    "plt.grid(True)\n",
    "plt.show()"
   ]
  },
  {
   "cell_type": "code",
   "execution_count": null,
   "metadata": {},
   "outputs": [],
   "source": []
  },
  {
   "cell_type": "code",
   "execution_count": null,
   "metadata": {},
   "outputs": [],
   "source": []
  }
 ],
 "metadata": {
  "kernelspec": {
   "display_name": "Python 3",
   "language": "python",
   "name": "python3"
  },
  "language_info": {
   "codemirror_mode": {
    "name": "ipython",
    "version": 3
   },
   "file_extension": ".py",
   "mimetype": "text/x-python",
   "name": "python",
   "nbconvert_exporter": "python",
   "pygments_lexer": "ipython3",
   "version": "3.5.2"
  }
 },
 "nbformat": 4,
 "nbformat_minor": 2
}
