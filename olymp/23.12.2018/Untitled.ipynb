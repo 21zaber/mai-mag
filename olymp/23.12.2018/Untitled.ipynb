{
 "cells": [
  {
   "cell_type": "code",
   "execution_count": 1,
   "metadata": {},
   "outputs": [
    {
     "data": {
      "text/plain": [
       "'11101110011011101010111001001110111011101110011000101010111011001110111011001110011011101010111010001110111011101110011001100010111011001110111011001010011011101010111001001100111011101110011011101010'"
      ]
     },
     "execution_count": 1,
     "metadata": {},
     "output_type": "execute_result"
    }
   ],
   "source": [
    "s = \"\"\"11101110011011101010\n",
    "11100100111011101110\n",
    "11100110001010101110\n",
    "11001110111011001110\n",
    "01101110101011101000\n",
    "11101110111011100110\n",
    "01100010111011001110\n",
    "11101100101001101110\n",
    "10101110010011001110\n",
    "11101110011011101010\"\"\"\n",
    "\n",
    "s = s.replace('\\n', '')\n",
    "s"
   ]
  },
  {
   "cell_type": "code",
   "execution_count": 25,
   "metadata": {},
   "outputs": [],
   "source": [
    "from math import sqrt\n",
    "\n",
    "def u(x):\n",
    "    \n",
    "    for i in range(2, int(sqrt(x)) + 1):\n",
    "        if x % (i*i) == 0:\n",
    "            #print(x, i*i)\n",
    "            return 0\n",
    "    \n",
    "    return 1\n",
    "\n",
    "ss = ''\n",
    "\n",
    "for i in range(1, 10**6):\n",
    "    ss += str(u(i))\n"
   ]
  },
  {
   "cell_type": "code",
   "execution_count": 42,
   "metadata": {},
   "outputs": [
    {
     "ename": "TypeError",
     "evalue": "unhashable type: 'list'",
     "output_type": "error",
     "traceback": [
      "\u001b[0;31m---------------------------------------------------------------------------\u001b[0m",
      "\u001b[0;31mTypeError\u001b[0m                                 Traceback (most recent call last)",
      "\u001b[0;32m<ipython-input-42-85e3e1bc6a12>\u001b[0m in \u001b[0;36m<module>\u001b[0;34m()\u001b[0m\n\u001b[0;32m----> 1\u001b[0;31m \u001b[0md\u001b[0m \u001b[0;34m=\u001b[0m \u001b[0;34m{\u001b[0m\u001b[0;34m[\u001b[0m\u001b[0;36m1\u001b[0m\u001b[0;34m,\u001b[0m \u001b[0;36m2\u001b[0m\u001b[0;34m]\u001b[0m\u001b[0;34m,\u001b[0m\u001b[0;34m[\u001b[0m\u001b[0;36m3\u001b[0m\u001b[0;34m,\u001b[0m\u001b[0;36m4\u001b[0m\u001b[0;34m]\u001b[0m\u001b[0;34m}\u001b[0m\u001b[0;34m\u001b[0m\u001b[0m\n\u001b[0m\u001b[1;32m      2\u001b[0m \u001b[0;32mimport\u001b[0m \u001b[0mitertools\u001b[0m\u001b[0;34m\u001b[0m\u001b[0m\n\u001b[1;32m      3\u001b[0m \u001b[0;32mfor\u001b[0m \u001b[0mi\u001b[0m \u001b[0;32min\u001b[0m \u001b[0mitertools\u001b[0m\u001b[0;34m.\u001b[0m\u001b[0mpermutations\u001b[0m\u001b[0;34m(\u001b[0m\u001b[0md\u001b[0m\u001b[0;34m)\u001b[0m\u001b[0;34m:\u001b[0m\u001b[0;34m\u001b[0m\u001b[0m\n\u001b[1;32m      4\u001b[0m     \u001b[0mprint\u001b[0m\u001b[0;34m(\u001b[0m\u001b[0mi\u001b[0m\u001b[0;34m)\u001b[0m\u001b[0;34m\u001b[0m\u001b[0m\n",
      "\u001b[0;31mTypeError\u001b[0m: unhashable type: 'list'"
     ]
    }
   ],
   "source": [
    "d = {[1, 2],[3,4]}\n",
    "import itertools\n",
    "for i in itertools.permutations(d):\n",
    "    print(i)"
   ]
  },
  {
   "cell_type": "code",
   "execution_count": 30,
   "metadata": {},
   "outputs": [],
   "source": [
    "l = [3, 131, 135, 7, 11, 139, 15, 143, 19, 147, 23, 151, 155, 27, 159, 31, 35, 163, 39, 167, 43, 171, 47, 175, 51, 179, 55, 183, 59, 187, 63, 191, 67, 195, 71, 199, 75, 79, 83, 87, 91, 95, 99, 103, 107, 111, 115, 119, 123, 127]"
   ]
  },
  {
   "cell_type": "code",
   "execution_count": 38,
   "metadata": {},
   "outputs": [
    {
     "data": {
      "text/plain": [
       "[3,\n",
       " 26,\n",
       " 31,\n",
       " 47,\n",
       " 49,\n",
       " 53,\n",
       " 62,\n",
       " 67,\n",
       " 74,\n",
       " 79,\n",
       " 80,\n",
       " 83,\n",
       " 87,\n",
       " 89,\n",
       " 91,\n",
       " 95,\n",
       " 97,\n",
       " 98,\n",
       " 99,\n",
       " 103,\n",
       " 107,\n",
       " 111,\n",
       " 115,\n",
       " 116,\n",
       " 119,\n",
       " 120,\n",
       " 124,\n",
       " 147,\n",
       " 152,\n",
       " 168,\n",
       " 170,\n",
       " 174,\n",
       " 183,\n",
       " 188,\n",
       " 195]"
      ]
     },
     "execution_count": 38,
     "metadata": {},
     "output_type": "execute_result"
    }
   ],
   "source": [
    "l = [3, 147, 152, 26, 31, 168, 170, 174, 47, 49, 53, 183, 188, 62, 67, 195, 74, 79, 80, 83, 87, 89, 91, 95, 97, 98, 99, 103, 107, 111, 115, 116, 119, 120, 124]\n",
    "#l = [i+1 for i in l]\n",
    "l.sort()\n",
    "l\n",
    "# for i in l:\n",
    "#     if i % 121 != 0:\n",
    "#         print(i)"
   ]
  },
  {
   "cell_type": "code",
   "execution_count": 29,
   "metadata": {},
   "outputs": [
    {
     "data": {
      "text/plain": [
       "{2}"
      ]
     },
     "execution_count": 29,
     "metadata": {},
     "output_type": "execute_result"
    }
   ],
   "source": [
    "a = {1,2}\n",
    "a.pop()\n",
    "a"
   ]
  },
  {
   "cell_type": "code",
   "execution_count": null,
   "metadata": {},
   "outputs": [],
   "source": [
    "11101110011011101010\n",
    "11100100111011101110\n",
    "11100110001010101110\n",
    "11001110111011001110\n",
    "01101110101011101000\n",
    "11101110111011100110\n",
    "01100010111011001110\n",
    "11101100101001101110\n",
    "10101110010011001110\n",
    "11101110011011101010\n",
    "\n",
    "\n",
    "01101110011011101010\n",
    "11100100111011101110\n",
    "11100110001010101110\n",
    "11001110111011001110\n",
    "01101110101011101000\n",
    "11101110111011100110\n",
    "01100010111011001110\n",
    "11101100101001101110\n",
    "10101110010011001110\n",
    "11101110011011101010\n"
   ]
  },
  {
   "cell_type": "code",
   "execution_count": 26,
   "metadata": {},
   "outputs": [
    {
     "name": "stdout",
     "output_type": "stream",
     "text": [
      "1\n",
      "2\n",
      "3\n",
      "4\n",
      "5\n",
      "6\n",
      "7\n"
     ]
    }
   ],
   "source": [
    "for i in range(10):\n",
    "    q = '0'* (i+1)\n",
    "    \n",
    "    if q in ss:\n",
    "        print(i+1)"
   ]
  },
  {
   "cell_type": "code",
   "execution_count": 21,
   "metadata": {},
   "outputs": [
    {
     "name": "stdout",
     "output_type": "stream",
     "text": [
      "00000000000000000000\n",
      "00000000000000000000\n",
      "00000000000000000000\n",
      "00000000000000000000\n",
      "00000000000000000000\n",
      "00000000000000000000\n",
      "00000000000000000000\n",
      "00000000000000000000\n",
      "00000000000000000000\n",
      "00000000000000000000\n"
     ]
    }
   ],
   "source": [
    "for i in range(10):\n",
    "    print('0'*20)"
   ]
  }
 ],
 "metadata": {
  "kernelspec": {
   "display_name": "Python 3",
   "language": "python",
   "name": "python3"
  },
  "language_info": {
   "codemirror_mode": {
    "name": "ipython",
    "version": 3
   },
   "file_extension": ".py",
   "mimetype": "text/x-python",
   "name": "python",
   "nbconvert_exporter": "python",
   "pygments_lexer": "ipython3",
   "version": "3.5.2"
  }
 },
 "nbformat": 4,
 "nbformat_minor": 2
}
